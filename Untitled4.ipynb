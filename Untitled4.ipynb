{
 "cells": [
  {
   "cell_type": "code",
   "execution_count": 7,
   "id": "7cee1813",
   "metadata": {},
   "outputs": [
    {
     "name": "stdout",
     "output_type": "stream",
     "text": [
      "C:\\Users\\Roberts\\Untitled4.py\n"
     ]
    }
   ],
   "source": [
    "import ipywidgets as widgets\n",
    "widgets.IntSlider()\n",
    "import os\n",
    "print(os.path.abspath('Untitled4.py'))\n",
    "\n"
   ]
  },
  {
   "cell_type": "code",
   "execution_count": 2,
   "id": "f3b7116f",
   "metadata": {},
   "outputs": [
    {
     "name": "stdout",
     "output_type": "stream",
     "text": [
      "All Good\n"
     ]
    }
   ],
   "source": [
    "import ipywidgets as widgets\n",
    "from IPython.display import display, clear_output\n",
    "import matplotlib.pyplot as plt\n",
    "import pandas as pd\n",
    "import numpy as np\n",
    "\n",
    "# Dummy stock data\n",
    "dates = pd.date_range(start='2023-01-01', periods=100)\n",
    "prices = np.cumsum(np.random.randn(100)) + 100\n",
    "\n",
    "print('All Good')\n"
   ]
  },
  {
   "cell_type": "code",
   "execution_count": 3,
   "id": "7bc80ccb",
   "metadata": {},
   "outputs": [],
   "source": [
    "# Widgets\n",
    "stock_picker = widgets.Dropdown(\n",
    "    options=['AAPL', 'GOOGL', 'MSFT'],\n",
    "    description='Stock:'\n",
    ")\n",
    "analyze_button = widgets.Button(description='Analyze Stock')\n",
    "\n"
   ]
  },
  {
   "cell_type": "code",
   "execution_count": 4,
   "id": "82740fef",
   "metadata": {},
   "outputs": [],
   "source": [
    "# Output area\n",
    "output = widgets.Output()\n",
    "\n"
   ]
  },
  {
   "cell_type": "code",
   "execution_count": 5,
   "id": "364a66d9",
   "metadata": {},
   "outputs": [
    {
     "name": "stdout",
     "output_type": "stream",
     "text": [
      "all good\n"
     ]
    }
   ],
   "source": [
    "# Callback function\n",
    "def analyze_stock(b):\n",
    "    with output:\n",
    "        clear_output()\n",
    "        # Simulate moving averages\n",
    "        df = pd.DataFrame({'Date': dates, 'Price': prices})\n",
    "        df['5-day MA'] = df['Price'].rolling(window=5).mean()\n",
    "        df['30-day MA'] = df['Price'].rolling(window=30).mean()\n",
    "        \n",
    "        # Plot\n",
    "        plt.figure(figsize=(10, 5))\n",
    "        plt.plot(df['Date'], df['Price'], label='Price')\n",
    "        plt.plot(df['Date'], df['5-day MA'], label='5-day MA', linestyle='--')\n",
    "        plt.plot(df['Date'], df['30-day MA'], label='30-day MA', linestyle='--')\n",
    "        plt.legend()\n",
    "        plt.title(f\"Analysis for {stock_picker.value}\")\n",
    "        plt.xlabel('Date')\n",
    "        plt.ylabel('Price')\n",
    "        plt.grid()\n",
    "        plt.show()\n",
    "        \n",
    "        # Recommendation\n",
    "        if df['5-day MA'].iloc[-1] > df['30-day MA'].iloc[-1]:\n",
    "            print(f\"Recommendation: BUY {stock_picker.value}\")\n",
    "        else:\n",
    "            print(f\"Recommendation: DO NOT BUY {stock_picker.value}\")\n",
    "\n",
    "print(\"all good\")"
   ]
  },
  {
   "cell_type": "code",
   "execution_count": 6,
   "id": "47e90137",
   "metadata": {
    "scrolled": false
   },
   "outputs": [
    {
     "data": {
      "application/vnd.jupyter.widget-view+json": {
       "model_id": "64f21b17d78a4381b3b5bf73fb74fa00",
       "version_major": 2,
       "version_minor": 0
      },
      "text/plain": [
       "Dropdown(description='Stock:', options=('AAPL', 'GOOGL', 'MSFT'), value='AAPL')"
      ]
     },
     "metadata": {},
     "output_type": "display_data"
    },
    {
     "data": {
      "application/vnd.jupyter.widget-view+json": {
       "model_id": "ea866a96356743a0b3e425e3a3205e6b",
       "version_major": 2,
       "version_minor": 0
      },
      "text/plain": [
       "Button(description='Analyze Stock', style=ButtonStyle())"
      ]
     },
     "metadata": {},
     "output_type": "display_data"
    },
    {
     "data": {
      "application/vnd.jupyter.widget-view+json": {
       "model_id": "bdbc09b76b67440a88ec6bd30b591442",
       "version_major": 2,
       "version_minor": 0
      },
      "text/plain": [
       "Output()"
      ]
     },
     "metadata": {},
     "output_type": "display_data"
    }
   ],
   "source": [
    "# Link button to function\n",
    "analyze_button.on_click(analyze_stock)\n",
    "\n",
    "# Display UI\n",
    "display(stock_picker, analyze_button, output)"
   ]
  },
  {
   "cell_type": "code",
   "execution_count": null,
   "id": "8798fce8",
   "metadata": {},
   "outputs": [],
   "source": []
  }
 ],
 "metadata": {
  "kernelspec": {
   "display_name": "Python 3 (ipykernel)",
   "language": "python",
   "name": "python3"
  },
  "language_info": {
   "codemirror_mode": {
    "name": "ipython",
    "version": 3
   },
   "file_extension": ".py",
   "mimetype": "text/x-python",
   "name": "python",
   "nbconvert_exporter": "python",
   "pygments_lexer": "ipython3",
   "version": "3.12.3"
  }
 },
 "nbformat": 4,
 "nbformat_minor": 5
}
